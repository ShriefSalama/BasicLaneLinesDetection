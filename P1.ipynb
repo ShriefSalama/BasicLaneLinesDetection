{
 "cells": [
  {
   "cell_type": "markdown",
   "metadata": {},
   "source": [
    "# Self-Driving Car Engineer Nanodegree\n",
    "\n",
    "\n",
    "## Project: **Finding Lane Lines on the Road** \n",
    "***\n",
    "In this project, you will use the tools you learned about in the lesson to identify lane lines on the road.  You can develop your pipeline on a series of individual images, and later apply the result to a video stream (really just a series of images). Check out the video clip \"raw-lines-example.mp4\" (also contained in this repository) to see what the output should look like after using the helper functions below. \n",
    "\n",
    "Once you have a result that looks roughly like \"raw-lines-example.mp4\", you'll need to get creative and try to average and/or extrapolate the line segments you've detected to map out the full extent of the lane lines.  You can see an example of the result you're going for in the video \"P1_example.mp4\".  Ultimately, you would like to draw just one line for the left side of the lane, and one for the right.\n",
    "\n",
    "In addition to implementing code, there is a brief writeup to complete. The writeup should be completed in a separate file, which can be either a markdown file or a pdf document. There is a [write up template](https://github.com/udacity/CarND-LaneLines-P1/blob/master/writeup_template.md) that can be used to guide the writing process. Completing both the code in the Ipython notebook and the writeup template will cover all of the [rubric points](https://review.udacity.com/#!/rubrics/322/view) for this project.\n",
    "\n",
    "---\n",
    "Let's have a look at our first image called 'test_images/solidWhiteRight.jpg'.  Run the 2 cells below (hit Shift-Enter or the \"play\" button above) to display the image.\n",
    "\n",
    "**Note: If, at any point, you encounter frozen display windows or other confounding issues, you can always start again with a clean slate by going to the \"Kernel\" menu above and selecting \"Restart & Clear Output\".**\n",
    "\n",
    "---"
   ]
  },
  {
   "cell_type": "markdown",
   "metadata": {},
   "source": [
    "**The tools you have are color selection, region of interest selection, grayscaling, Gaussian smoothing, Canny Edge Detection and Hough Tranform line detection.  You  are also free to explore and try other techniques that were not presented in the lesson.  Your goal is piece together a pipeline to detect the line segments in the image, then average/extrapolate them and draw them onto the image for display (as below).  Once you have a working pipeline, try it out on the video stream below.**\n",
    "\n",
    "---\n",
    "\n",
    "<figure>\n",
    " <img src=\"examples/line-segments-example.jpg\" width=\"380\" alt=\"Combined Image\" />\n",
    " <figcaption>\n",
    " <p></p> \n",
    " <p style=\"text-align: center;\"> Your output should look something like this (above) after detecting line segments using the helper functions below </p> \n",
    " </figcaption>\n",
    "</figure>\n",
    " <p></p> \n",
    "<figure>\n",
    " <img src=\"examples/laneLines_thirdPass.jpg\" width=\"380\" alt=\"Combined Image\" />\n",
    " <figcaption>\n",
    " <p></p> \n",
    " <p style=\"text-align: center;\"> Your goal is to connect/average/extrapolate line segments to get output like this</p> \n",
    " </figcaption>\n",
    "</figure>"
   ]
  },
  {
   "cell_type": "markdown",
   "metadata": {},
   "source": [
    "## Import Packages"
   ]
  },
  {
   "cell_type": "code",
   "execution_count": 1,
   "metadata": {},
   "outputs": [],
   "source": [
    "#importing some useful packages\n",
    "import matplotlib.pyplot as plt\n",
    "import matplotlib.image as mpimg\n",
    "import numpy as np\n",
    "import cv2\n",
    "%matplotlib inline"
   ]
  },
  {
   "cell_type": "markdown",
   "metadata": {},
   "source": [
    "## Helper Functions"
   ]
  },
  {
   "cell_type": "markdown",
   "metadata": {},
   "source": [
    "Below are some helper functions to help get you started. They should look familiar from the lesson!"
   ]
  },
  {
   "cell_type": "code",
   "execution_count": 2,
   "metadata": {},
   "outputs": [],
   "source": [
    "import math\n",
    "\n",
    "def grayscale(img):\n",
    "    \"\"\"Applies the Grayscale transform\n",
    "    This will return an image with only one color channel\n",
    "    but NOTE: to see the returned image as grayscale\n",
    "    (assuming your grayscaled image is called 'gray')\n",
    "    you should call plt.imshow(gray, cmap='gray')\"\"\"\n",
    "    #return cv2.cvtColor(img, cv2.COLOR_RGB2GRAY)\n",
    "    # Or use BGR2GRAY if you read an image with cv2.imread()\n",
    "    return cv2.cvtColor(img, cv2.COLOR_BGR2GRAY)\n",
    "    \n",
    "def canny(img, low_threshold, high_threshold):\n",
    "    \"\"\"Applies the Canny transform\"\"\"\n",
    "    return cv2.Canny(img, low_threshold, high_threshold)\n",
    "\n",
    "def gaussian_blur(img, kernel_size):\n",
    "    \"\"\"Applies a Gaussian Noise kernel\"\"\"\n",
    "    return cv2.GaussianBlur(img, (kernel_size, kernel_size), 0)\n",
    "\n",
    "def region_of_interest(img, vertices):\n",
    "    \"\"\"\n",
    "    Applies an image mask.\n",
    "    \n",
    "    Only keeps the region of the image defined by the polygon\n",
    "    formed from `vertices`. The rest of the image is set to black.\n",
    "    \"\"\"\n",
    "    #defining a blank mask to start with\n",
    "    mask = np.zeros_like(img)   \n",
    "    \n",
    "    #defining a 3 channel or 1 channel color to fill the mask with depending on the input image\n",
    "    if len(img.shape) > 2:\n",
    "        channel_count = img.shape[2]  # i.e. 3 or 4 depending on your image\n",
    "        ignore_mask_color = (255,) * channel_count\n",
    "    else:\n",
    "        ignore_mask_color = 255\n",
    "        \n",
    "    #filling pixels inside the polygon defined by \"vertices\" with the fill color    \n",
    "    cv2.fillPoly(mask, vertices, ignore_mask_color)\n",
    "    \n",
    "    #returning the image only where mask pixels are nonzero\n",
    "    masked_image = cv2.bitwise_and(img, mask)\n",
    "    return masked_image\n",
    "\n",
    "\n",
    "def draw_lines(img, lines, color=[255, 0, 0], thickness=10):\n",
    "    \"\"\"\n",
    "    NOTE: this is the function you might want to use as a starting point once you want to \n",
    "    average/extrapolate the line segments you detect to map out the full\n",
    "    extent of the lane (going from the result shown in raw-lines-example.mp4\n",
    "    to that shown in P1_example.mp4).  \n",
    "    \n",
    "    Think about things like separating line segments by their \n",
    "    slope ((y2-y1)/(x2-x1)) to decide which segments are part of the left\n",
    "    line vs. the right line.  Then, you can average the position of each of \n",
    "    the lines and extrapolate to the top and bottom of the lane.\n",
    "    \n",
    "    This function draws `lines` with `color` and `thickness`.    \n",
    "    Lines are drawn on the image inplace (mutates the image).\n",
    "    If you want to make the lines semi-transparent, think about combining\n",
    "    this function with the weighted_img() function below\n",
    "    \"\"\"\n",
    "    for line in lines:\n",
    "        for x1,y1,x2,y2 in line:\n",
    "            cv2.line(img, (x1, y1), (x2, y2), color, thickness)\n",
    "\n",
    "def hough_lines(img, rho, theta, threshold, min_line_len, max_line_gap):\n",
    "    \"\"\"\n",
    "    `img` should be the output of a Canny transform.\n",
    "        \n",
    "    Returns an image with hough lines drawn.\n",
    "    \"\"\"\n",
    "    lines = cv2.HoughLinesP(img, rho, theta, threshold, np.array([]), minLineLength=min_line_len, maxLineGap=max_line_gap)\n",
    "    line_img = np.zeros((img.shape[0], img.shape[1], 3), dtype=np.uint8)\n",
    "    draw_lines(line_img, lines)\n",
    "  #  return line_img\n",
    "    return lines\n",
    "  \n",
    "# Python 3 has support for cool math symbols.\n",
    "\n",
    "def weighted_img(img, initial_img, α=0.8, β=1., γ=0.):\n",
    "    \"\"\"\n",
    "    `img` is the output of the hough_lines(), An image with lines drawn on it.\n",
    "    Should be a blank image (all black) with lines drawn on it.\n",
    "    \n",
    "    `initial_img` should be the image before any processing.\n",
    "    \n",
    "    The result image is computed as follows:\n",
    "    \n",
    "    initial_img * α + img * β + γ\n",
    "    NOTE: initial_img and img must be the same shape!\n",
    "    \"\"\"\n",
    "    return cv2.addWeighted(initial_img, α, img, β, γ)"
   ]
  },
  {
   "cell_type": "markdown",
   "metadata": {},
   "source": [
    "## Test Images\n",
    "\n",
    "Build your pipeline to work on the images in the directory \"test_images\"  \n",
    "**You should make sure your pipeline works well on these images before you try the videos.**"
   ]
  },
  {
   "cell_type": "code",
   "execution_count": 3,
   "metadata": {},
   "outputs": [],
   "source": [
    "import os\n",
    "images_input_dir = \"test_images/\"\n",
    "images_output_dir = \"test_images_output/\"\n",
    "input_images_full_path=[]\n",
    "output_images_full_path=[]\n",
    "\n",
    "images_names = os.listdir(images_input_dir)\n",
    "\n"
   ]
  },
  {
   "cell_type": "markdown",
   "metadata": {},
   "source": [
    "## Build a Lane Finding Pipeline\n",
    "\n"
   ]
  },
  {
   "cell_type": "markdown",
   "metadata": {},
   "source": [
    "Build the pipeline and run your solution on all test_images. Make copies into the `test_images_output` directory, and you can use the images in your writeup report.\n",
    "Try tuning the various parameters, especially the low and high Canny thresholds as well as the Hough lines parameters."
   ]
  },
  {
   "cell_type": "code",
   "execution_count": 19,
   "metadata": {
    "scrolled": true
   },
   "outputs": [
    {
     "data": {
      "image/png": "[encoded data removed]",
      "text/plain": [
       "<matplotlib.figure.Figure at 0x7ff2904a6da0>"
      ]
     },
     "metadata": {
      "needs_background": "light"
     },
     "output_type": "display_data"
    }
   ],
   "source": [
    "canny_low_threshold = 70\n",
    "canny_high_threshold = 210\n",
    "Blur_Kernel = 5\n",
    "HOUGH_rho = 1 \n",
    "HOUGH_theta = (np.pi/180) \n",
    "HOUGH_threshold = 35\n",
    "HOUGH_min_line_length = 1  #4\n",
    "HOUGH_max_line_gap =  5   #3\n",
    "\n",
    "\n",
    "\n",
    "for image_name in images_names:\n",
    "#    input_images_full_path.append()\n",
    "    image = mpimg.imread(os.path.join(images_input_dir, image_name))\n",
    "\n",
    "    Ymax = image.shape[0]\n",
    "    Xmax = image.shape[1]\n",
    "    Ymin =  int( image.shape[0]/1.65)\n",
    "    points = np.array([[100, Ymax], [Xmax-100, Ymax], [520, Ymin],[450,Ymin]])\n",
    "\n",
    "    \n",
    "    # TODO: Build your pipeline that will draw lane lines on the test_images \n",
    "\n",
    "    lines = hough_lines(region_of_interest(canny(gaussian_blur(grayscale(image),Blur_Kernel),canny_low_threshold,canny_high_threshold),[points]),HOUGH_rho,HOUGH_theta,HOUGH_threshold,HOUGH_min_line_length,HOUGH_max_line_gap)\n",
    "\n",
    "    ########################################\n",
    "\n",
    "    left_point_x=[]\n",
    "    left_point_y=[]\n",
    "            \n",
    "    right_point_x=[]\n",
    "    right_point_y=[]\n",
    "\n",
    "    for line in lines:\n",
    "        for x1,y1,x2,y2 in line :\n",
    "            slope = ((y2-y1)/(x2-x1))\n",
    "            if (slope > 0.4):\n",
    "                left_point_x.append(x1)\n",
    "                left_point_x.append(x2)\n",
    "                left_point_y.append(y1)\n",
    "                left_point_y.append(y2)\n",
    "                \n",
    "            elif (slope < -0.5):\n",
    "                right_point_x.append(x1)\n",
    "                right_point_y.append(y1)\n",
    "                right_point_x.append(x2)\n",
    "                right_point_y.append(y2)\n",
    "\n",
    "            else:\n",
    "                print(slope)\n",
    "\n",
    "    if (left_point_x):\n",
    "        left_slope, left_c = np.polyfit(left_point_x,left_point_y,1)\n",
    "    if (right_point_x):\n",
    "        right_slope, right_c = np.polyfit(right_point_x,right_point_y,1)\n",
    "\n",
    "    #Get \"X point\" for Ymax with average slope and lowest point_y_x x1=x2-((y2-y1)/m)\n",
    "    #y = slope*x + c\n",
    "    #x = (y-c)/slope\n",
    "    Higher_left_y_X = int((Ymax - left_c)/left_slope)\n",
    "    Lowest_left_y_X = int((Ymin - left_c)/left_slope)\n",
    "    \n",
    "    Higher_right_y_X = int((Ymax - right_c)/right_slope)\n",
    "    Lowest_right_y_X = int((Ymin - right_c)/right_slope)\n",
    "    \n",
    "    # set lint points in an array\n",
    "\n",
    "    left_lane_points = [Higher_left_y_X,Ymax,Lowest_left_y_X,Ymin]\n",
    "    right_lane_points = [Higher_right_y_X,Ymax,Lowest_right_y_X,Ymin]\n",
    "\n",
    "    lane_lines = [[left_lane_points],[right_lane_points]]\n",
    "\n",
    "    #####################################\n",
    "    line_img = np.zeros((image.shape[0], image.shape[1], 3), dtype=np.uint8)\n",
    "    draw_lines(line_img,lane_lines,[255 ,0, 0],10)\n",
    "\n",
    "    annoted_image = weighted_img(line_img,image)\n",
    "\n",
    "    plt.imshow(annoted_image)\n",
    "\n",
    "\n",
    "    # then save them to the test_images_output directory.\n",
    "    cv2.imwrite(os.path.join(images_output_dir, image_name),annoted_image)"
   ]
  },
  {
   "cell_type": "markdown",
   "metadata": {},
   "source": [
    "## Test on Videos\n",
    "\n",
    "You know what's cooler than drawing lanes over images? Drawing lanes over video!\n",
    "\n",
    "We can test our solution on two provided videos:\n",
    "\n",
    "`solidWhiteRight.mp4`\n",
    "\n",
    "`solidYellowLeft.mp4`\n",
    "\n",
    "**Note: if you get an import error when you run the next cell, try changing your kernel (select the Kernel menu above --> Change Kernel). Still have problems? Try relaunching Jupyter Notebook from the terminal prompt. Also, consult the forums for more troubleshooting tips.**\n",
    "\n",
    "**If you get an error that looks like this:**\n",
    "```\n",
    "NeedDownloadError: Need ffmpeg exe. \n",
    "You can download it by calling: \n",
    "imageio.plugins.ffmpeg.download()\n",
    "```\n",
    "**Follow the instructions in the error message and check out [this forum post](https://discussions.udacity.com/t/project-error-of-test-on-videos/274082) for more troubleshooting tips across operating systems.**"
   ]
  },
  {
   "cell_type": "code",
   "execution_count": 20,
   "metadata": {},
   "outputs": [],
   "source": [
    "# Import everything needed to edit/save/watch video clips\n",
    "from moviepy.editor import VideoFileClip\n",
    "from IPython.display import HTML"
   ]
  },
  {
   "cell_type": "code",
   "execution_count": 21,
   "metadata": {},
   "outputs": [],
   "source": [
    "def process_image(image):\n",
    "\n",
    "        Ymax = image.shape[0]\n",
    "        Xmax = image.shape[1]\n",
    "        Ymin =  int( image.shape[0]*0.6)\n",
    "        points = np.array([[50, Ymax], [Xmax, Ymax], [570, Ymin],[390,Ymin]])\n",
    "\n",
    "    # TODO: Build your pipeline that will draw lane lines on the test_images \n",
    "    \n",
    "        gray_img = grayscale(image)\n",
    "        guassian_blur_img = gaussian_blur(gray_img,Blur_Kernel)\n",
    "        canny_img = canny(guassian_blur_img,canny_low_threshold,canny_high_threshold)\n",
    "        interested_area_img = region_of_interest(canny_img,[points])\n",
    "\n",
    "        lines = hough_lines(interested_area_img,HOUGH_rho,HOUGH_theta,HOUGH_threshold,HOUGH_min_line_length,HOUGH_max_line_gap)\n",
    "\n",
    "\n",
    "        ########################################\n",
    "\n",
    "        left_point_x=[]\n",
    "        left_point_y=[]\n",
    "            \n",
    "        right_point_x=[]\n",
    "        right_point_y=[]\n",
    "\n",
    "        for line in lines:\n",
    "            for x1,y1,x2,y2 in line :\n",
    "                slope = ((y2-y1)/(x2-x1))\n",
    "\n",
    "                if (slope > 0.4)and (slope <0.7):\n",
    "\n",
    "                    left_point_x.append(x1)\n",
    "                    left_point_y.append(y1)\n",
    "                    left_point_x.append(x2)\n",
    "                    left_point_y.append(y2)\n",
    "\n",
    "                elif (slope < -0.6)and (slope > -0.84):\n",
    "\n",
    "                    right_point_x.append(x1)\n",
    "                    right_point_y.append(y1)\n",
    "                    right_point_x.append(x2)\n",
    "                    right_point_y.append(y2)\n",
    "#                 else:\n",
    "#                     print(slope)\n",
    "\n",
    "        #Get \"X point\" for Ymax with average slope and lowest point_y_x x1=x2-((y2-y1)/m)\n",
    "        #y = slope*x + c\n",
    "        #x = (y-c)/slope\n",
    "        if (left_point_x):\n",
    "            left_slope, left_c = np.polyfit(left_point_x,left_point_y,1)\n",
    "        if (right_point_x):\n",
    "            right_slope, right_c = np.polyfit(right_point_x,right_point_y,1)\n",
    "\n",
    "        \n",
    "        Higher_left_y_X = int((Ymax - left_c)/left_slope)        \n",
    "        Lowest_left_y_X = int((Ymin - left_c)/left_slope)\n",
    "    \n",
    "        Higher_right_y_X = int((Ymax - right_c)/right_slope)\n",
    "        Lowest_right_y_X = int((Ymin - right_c)/right_slope)\n",
    "\n",
    "        # set lint points in an array\n",
    "\n",
    "        left_lane_points = [Higher_left_y_X,Ymax,Lowest_left_y_X,Ymin]\n",
    "\n",
    "        right_lane_points = [Higher_right_y_X,Ymax,Lowest_right_y_X,Ymin]\n",
    "\n",
    "        lane_lines = [[left_lane_points],[right_lane_points]]\n",
    "\n",
    "        #####################################\n",
    "        line_img = np.zeros((image.shape[0], image.shape[1], 3), dtype=np.uint8)\n",
    "        draw_lines(line_img,lane_lines,[255 ,0, 0],9)\n",
    "\n",
    "        annoted_image = weighted_img(line_img,image)\n",
    "\n",
    "        return annoted_image"
   ]
  },
  {
   "cell_type": "markdown",
   "metadata": {},
   "source": [
    "Let's try the one with the solid white lane on the right first ..."
   ]
  },
  {
   "cell_type": "code",
   "execution_count": 22,
   "metadata": {
    "scrolled": false
   },
   "outputs": [
    {
     "name": "stdout",
     "output_type": "stream",
     "text": [
      "[MoviePy] >>>> Building video test_videos_output/solidWhiteRight.mp4\n",
      "[MoviePy] Writing video test_videos_output/solidWhiteRight.mp4\n"
     ]
    },
    {
     "name": "stderr",
     "output_type": "stream",
     "text": [
      "\n",
      "  0%|          | 0/222 [00:00<?, ?it/s]\u001b[A\n",
      "  4%|▎         | 8/222 [00:00<00:02, 75.69it/s]\u001b[A\n",
      "  8%|▊         | 17/222 [00:00<00:02, 78.34it/s]\u001b[A\n",
      " 12%|█▏        | 26/222 [00:00<00:02, 81.33it/s]\u001b[A\n",
      " 16%|█▌        | 35/222 [00:00<00:02, 83.30it/s]\u001b[A\n",
      " 20%|█▉        | 44/222 [00:00<00:02, 83.83it/s]\u001b[A\n",
      " 23%|██▎       | 52/222 [00:00<00:02, 68.95it/s]\u001b[A\n",
      " 27%|██▋       | 59/222 [00:00<00:02, 65.03it/s]\u001b[A\n",
      " 30%|██▉       | 66/222 [00:00<00:02, 65.77it/s]\u001b[A\n",
      " 33%|███▎      | 73/222 [00:01<00:02, 64.76it/s]\u001b[A\n",
      " 36%|███▌      | 80/222 [00:01<00:02, 65.04it/s]\u001b[A\n",
      " 39%|███▉      | 87/222 [00:01<00:02, 64.58it/s]\u001b[A\n",
      " 42%|████▏     | 94/222 [00:01<00:02, 62.78it/s]\u001b[A\n",
      " 45%|████▌     | 101/222 [00:01<00:01, 63.66it/s]\u001b[A\n",
      " 49%|████▉     | 109/222 [00:01<00:01, 65.61it/s]\u001b[A\n",
      " 52%|█████▏    | 116/222 [00:01<00:01, 64.68it/s]\u001b[A\n",
      " 55%|█████▌    | 123/222 [00:01<00:01, 65.04it/s]\u001b[A\n",
      " 59%|█████▊    | 130/222 [00:01<00:01, 64.99it/s]\u001b[A\n",
      " 62%|██████▏   | 137/222 [00:02<00:01, 65.84it/s]\u001b[A\n",
      " 65%|██████▍   | 144/222 [00:02<00:01, 66.20it/s]\u001b[A\n",
      " 68%|██████▊   | 151/222 [00:02<00:01, 64.75it/s]\u001b[A\n",
      " 71%|███████   | 158/222 [00:02<00:01, 63.77it/s]\u001b[A\n",
      " 74%|███████▍  | 165/222 [00:02<00:00, 63.21it/s]\u001b[A\n",
      " 77%|███████▋  | 172/222 [00:02<00:00, 64.47it/s]\u001b[A\n",
      " 81%|████████  | 179/222 [00:02<00:00, 63.73it/s]\u001b[A\n",
      " 84%|████████▍ | 186/222 [00:02<00:00, 62.34it/s]\u001b[A\n",
      " 87%|████████▋ | 193/222 [00:02<00:00, 61.72it/s]\u001b[A\n",
      " 90%|█████████ | 200/222 [00:03<00:00, 63.21it/s]\u001b[A\n",
      " 93%|█████████▎| 207/222 [00:03<00:00, 62.76it/s]\u001b[A\n",
      " 96%|█████████▋| 214/222 [00:03<00:00, 62.41it/s]\u001b[A\n",
      "100%|█████████▉| 221/222 [00:03<00:00, 64.02it/s]\u001b[A\n",
      "\u001b[A"
     ]
    },
    {
     "name": "stdout",
     "output_type": "stream",
     "text": [
      "[MoviePy] Done.\n",
      "[MoviePy] >>>> Video ready: test_videos_output/solidWhiteRight.mp4 \n",
      "\n",
      "CPU times: user 5.44 s, sys: 380 ms, total: 5.82 s\n",
      "Wall time: 3.72 s\n"
     ]
    }
   ],
   "source": [
    "white_output = 'test_videos_output/solidWhiteRight.mp4'\n",
    "## To speed up the testing process you may want to try your pipeline on a shorter subclip of the video\n",
    "## To do so add .subclip(start_second,end_second) to the end of the line below\n",
    "## Where start_second and end_second are integer values representing the start and end of the subclip\n",
    "## You may also uncomment the following line for a subclip of the first 5 seconds\n",
    "#clip1 = VideoFileClip(\"test_videos/solidWhiteRight.mp4\").subclip(0,5)\n",
    "clip1 = VideoFileClip(\"test_videos/solidWhiteRight.mp4\")\n",
    "white_clip = clip1.fl_image(process_image) #NOTE: this function expects color images!!\n",
    "%time white_clip.write_videofile(white_output, audio=False)"
   ]
  },
  {
   "cell_type": "markdown",
   "metadata": {},
   "source": [
    "Play the video inline, or if you prefer find the video in your filesystem (should be in the same directory) and play it in your video player of choice."
   ]
  },
  {
   "cell_type": "code",
   "execution_count": 23,
   "metadata": {},
   "outputs": [
    {
     "data": {
      "text/html": [
       "\n",
       "<video width=\"960\" height=\"540\" controls>\n",
       "  <source src=\"test_videos_output/solidWhiteRight.mp4\">\n",
       "</video>\n"
      ],
      "text/plain": [
       "<IPython.core.display.HTML object>"
      ]
     },
     "execution_count": 23,
     "metadata": {},
     "output_type": "execute_result"
    }
   ],
   "source": [
    "HTML(\"\"\"\n",
    "<video width=\"960\" height=\"540\" controls>\n",
    "  <source src=\"{0}\">\n",
    "</video>\n",
    "\"\"\".format(white_output))"
   ]
  },
  {
   "cell_type": "markdown",
   "metadata": {},
   "source": [
    "## Improve the draw_lines() function\n",
    "\n",
    "**At this point, if you were successful with making the pipeline and tuning parameters, you probably have the Hough line segments drawn onto the road, but what about identifying the full extent of the lane and marking it clearly as in the example video (P1_example.mp4)?  Think about defining a line to run the full length of the visible lane based on the line segments you identified with the Hough Transform. As mentioned previously, try to average and/or extrapolate the line segments you've detected to map out the full extent of the lane lines. You can see an example of the result you're going for in the video \"P1_example.mp4\".**\n",
    "\n",
    "**Go back and modify your draw_lines function accordingly and try re-running your pipeline. The new output should draw a single, solid line over the left lane line and a single, solid line over the right lane line. The lines should start from the bottom of the image and extend out to the top of the region of interest.**"
   ]
  },
  {
   "cell_type": "markdown",
   "metadata": {},
   "source": [
    "Now for the one with the solid yellow lane on the left. This one's more tricky!"
   ]
  },
  {
   "cell_type": "code",
   "execution_count": 24,
   "metadata": {
    "scrolled": true
   },
   "outputs": [
    {
     "name": "stdout",
     "output_type": "stream",
     "text": [
      "[MoviePy] >>>> Building video test_videos_output/solidYellowLeft.mp4\n",
      "[MoviePy] Writing video test_videos_output/solidYellowLeft.mp4\n"
     ]
    },
    {
     "name": "stderr",
     "output_type": "stream",
     "text": [
      "\n",
      "  0%|          | 0/682 [00:00<?, ?it/s]\u001b[A\n",
      "  1%|          | 8/682 [00:00<00:09, 73.16it/s]\u001b[A\n",
      "  2%|▏         | 17/682 [00:00<00:08, 76.99it/s]\u001b[A\n",
      "  4%|▍         | 26/682 [00:00<00:08, 79.21it/s]\u001b[A\n",
      "  5%|▌         | 35/682 [00:00<00:08, 80.73it/s]\u001b[A\n",
      "  6%|▋         | 44/682 [00:00<00:07, 81.81it/s]\u001b[A\n",
      "  7%|▋         | 51/682 [00:00<00:09, 68.83it/s]\u001b[A\n",
      "  9%|▊         | 58/682 [00:00<00:09, 67.95it/s]\u001b[A\n",
      " 10%|▉         | 65/682 [00:00<00:09, 67.90it/s]\u001b[A\n",
      " 11%|█         | 72/682 [00:00<00:09, 64.92it/s]\u001b[A\n",
      " 12%|█▏        | 79/682 [00:01<00:09, 65.01it/s]\u001b[A\n",
      " 13%|█▎        | 86/682 [00:01<00:09, 64.50it/s]\u001b[A\n",
      " 14%|█▎        | 93/682 [00:01<00:09, 62.27it/s]\u001b[A\n",
      " 15%|█▍        | 101/682 [00:01<00:09, 64.15it/s]\u001b[A\n",
      " 16%|█▌        | 108/682 [00:01<00:09, 61.47it/s]\u001b[A\n",
      " 17%|█▋        | 115/682 [00:01<00:09, 60.90it/s]\u001b[A\n",
      " 18%|█▊        | 122/682 [00:01<00:09, 61.52it/s]\u001b[A\n",
      " 19%|█▉        | 129/682 [00:01<00:09, 60.32it/s]\u001b[A\n",
      " 20%|█▉        | 136/682 [00:02<00:08, 62.15it/s]\u001b[A\n",
      " 21%|██        | 143/682 [00:02<00:08, 62.81it/s]\u001b[A\n",
      " 22%|██▏       | 150/682 [00:02<00:08, 60.32it/s]\u001b[A\n",
      " 23%|██▎       | 157/682 [00:02<00:08, 62.46it/s]\u001b[A\n",
      " 24%|██▍       | 164/682 [00:02<00:08, 61.51it/s]\u001b[A\n",
      " 25%|██▌       | 171/682 [00:02<00:08, 63.66it/s]\u001b[A\n",
      " 26%|██▌       | 178/682 [00:02<00:08, 62.34it/s]\u001b[A\n",
      " 27%|██▋       | 186/682 [00:02<00:07, 64.61it/s]\u001b[A\n",
      " 28%|██▊       | 193/682 [00:02<00:07, 62.80it/s]\u001b[A\n",
      " 29%|██▉       | 201/682 [00:03<00:07, 64.93it/s]\u001b[A\n",
      " 30%|███       | 208/682 [00:03<00:07, 63.88it/s]\u001b[A\n",
      " 32%|███▏      | 215/682 [00:03<00:07, 62.87it/s]\u001b[A\n",
      " 33%|███▎      | 222/682 [00:03<00:07, 64.05it/s]\u001b[A\n",
      " 34%|███▎      | 229/682 [00:03<00:07, 64.32it/s]\u001b[A\n",
      " 35%|███▍      | 236/682 [00:03<00:06, 64.05it/s]\u001b[A\n",
      " 36%|███▌      | 243/682 [00:03<00:07, 62.54it/s]\u001b[A\n",
      " 37%|███▋      | 250/682 [00:03<00:07, 61.50it/s]\u001b[A\n",
      " 38%|███▊      | 257/682 [00:03<00:06, 61.47it/s]\u001b[A\n",
      " 39%|███▊      | 264/682 [00:04<00:06, 61.36it/s]\u001b[A\n",
      " 40%|███▉      | 271/682 [00:04<00:06, 62.54it/s]\u001b[A\n",
      " 41%|████      | 278/682 [00:04<00:06, 58.86it/s]\u001b[A\n",
      " 42%|████▏     | 285/682 [00:04<00:06, 60.86it/s]\u001b[A\n",
      " 43%|████▎     | 292/682 [00:04<00:06, 58.68it/s]\u001b[A\n",
      " 44%|████▍     | 299/682 [00:04<00:06, 59.03it/s]\u001b[A\n",
      " 45%|████▍     | 306/682 [00:04<00:06, 60.81it/s]\u001b[A\n",
      " 46%|████▌     | 313/682 [00:04<00:06, 60.23it/s]\u001b[A\n",
      " 47%|████▋     | 320/682 [00:05<00:05, 60.99it/s]\u001b[A\n",
      " 48%|████▊     | 327/682 [00:05<00:05, 61.45it/s]\u001b[A\n",
      " 49%|████▉     | 334/682 [00:05<00:05, 61.78it/s]\u001b[A\n",
      " 50%|█████     | 341/682 [00:05<00:05, 60.54it/s]\u001b[A\n",
      " 51%|█████     | 349/682 [00:05<00:05, 63.41it/s]\u001b[A\n",
      " 52%|█████▏    | 356/682 [00:05<00:05, 61.88it/s]\u001b[A\n",
      " 53%|█████▎    | 363/682 [00:05<00:05, 62.65it/s]\u001b[A\n",
      " 54%|█████▍    | 370/682 [00:05<00:04, 62.70it/s]\u001b[A\n",
      " 55%|█████▌    | 377/682 [00:05<00:04, 62.17it/s]\u001b[A\n",
      " 56%|█████▋    | 384/682 [00:06<00:04, 61.47it/s]\u001b[A\n",
      " 57%|█████▋    | 391/682 [00:06<00:04, 62.87it/s]\u001b[A\n",
      " 58%|█████▊    | 398/682 [00:06<00:04, 61.89it/s]\u001b[A\n",
      " 59%|█████▉    | 405/682 [00:06<00:04, 61.98it/s]\u001b[A\n",
      " 60%|██████    | 412/682 [00:06<00:04, 60.56it/s]\u001b[A\n",
      " 61%|██████▏   | 419/682 [00:06<00:04, 60.05it/s]\u001b[A\n",
      " 62%|██████▏   | 426/682 [00:06<00:04, 61.23it/s]\u001b[A\n",
      " 63%|██████▎   | 433/682 [00:06<00:04, 60.17it/s]\u001b[A\n",
      " 65%|██████▍   | 440/682 [00:06<00:04, 58.98it/s]\u001b[A\n",
      " 66%|██████▌   | 447/682 [00:07<00:03, 60.10it/s]\u001b[A\n",
      " 67%|██████▋   | 454/682 [00:07<00:03, 58.45it/s]\u001b[A\n",
      " 67%|██████▋   | 460/682 [00:07<00:03, 58.71it/s]\u001b[A\n",
      " 68%|██████▊   | 466/682 [00:07<00:03, 58.13it/s]\u001b[A\n",
      " 69%|██████▉   | 472/682 [00:07<00:03, 58.42it/s]\u001b[A\n",
      " 70%|███████   | 479/682 [00:07<00:03, 60.86it/s]\u001b[A\n",
      " 71%|███████▏  | 486/682 [00:07<00:03, 59.90it/s]\u001b[A\n",
      " 72%|███████▏  | 493/682 [00:07<00:03, 61.51it/s]\u001b[A\n",
      " 73%|███████▎  | 500/682 [00:07<00:02, 61.19it/s]\u001b[A\n",
      " 74%|███████▍  | 507/682 [00:08<00:02, 59.89it/s]\u001b[A\n",
      " 75%|███████▌  | 514/682 [00:08<00:02, 60.60it/s]\u001b[A\n",
      " 76%|███████▋  | 521/682 [00:08<00:02, 62.04it/s]\u001b[A\n",
      " 77%|███████▋  | 528/682 [00:08<00:02, 58.79it/s]\u001b[A\n",
      " 78%|███████▊  | 535/682 [00:08<00:02, 59.06it/s]\u001b[A\n",
      " 79%|███████▉  | 541/682 [00:08<00:02, 58.04it/s]\u001b[A\n",
      " 80%|████████  | 547/682 [00:08<00:02, 58.12it/s]\u001b[A\n",
      " 81%|████████  | 554/682 [00:08<00:02, 60.72it/s]\u001b[A\n",
      " 82%|████████▏ | 561/682 [00:08<00:01, 60.90it/s]\u001b[A\n",
      " 83%|████████▎ | 568/682 [00:09<00:01, 60.69it/s]\u001b[A\n",
      " 84%|████████▍ | 575/682 [00:09<00:01, 58.49it/s]\u001b[A\n",
      " 85%|████████▌ | 581/682 [00:09<00:01, 57.50it/s]\u001b[A\n",
      " 86%|████████▌ | 587/682 [00:09<00:01, 57.44it/s]\u001b[A\n",
      " 87%|████████▋ | 595/682 [00:09<00:01, 61.62it/s]\u001b[A\n",
      " 88%|████████▊ | 602/682 [00:09<00:01, 59.99it/s]\u001b[A\n",
      " 89%|████████▉ | 609/682 [00:09<00:01, 58.69it/s]\u001b[A\n",
      " 90%|█████████ | 615/682 [00:09<00:01, 58.39it/s]\u001b[A\n",
      " 91%|█████████ | 622/682 [00:10<00:00, 60.66it/s]\u001b[A\n",
      " 92%|█████████▏| 629/682 [00:10<00:00, 61.50it/s]\u001b[A\n",
      " 93%|█████████▎| 636/682 [00:10<00:00, 60.01it/s]\u001b[A\n",
      " 94%|█████████▍| 643/682 [00:10<00:00, 60.06it/s]\u001b[A\n",
      " 95%|█████████▌| 650/682 [00:10<00:00, 59.56it/s]\u001b[A\n",
      " 96%|█████████▋| 657/682 [00:10<00:00, 61.75it/s]\u001b[A\n",
      " 97%|█████████▋| 664/682 [00:10<00:00, 62.11it/s]\u001b[A\n",
      " 98%|█████████▊| 671/682 [00:10<00:00, 62.38it/s]\u001b[A\n",
      " 99%|█████████▉| 678/682 [00:10<00:00, 62.43it/s]\u001b[A\n",
      "100%|█████████▉| 681/682 [00:10<00:00, 62.17it/s]\u001b[A"
     ]
    },
    {
     "name": "stdout",
     "output_type": "stream",
     "text": [
      "[MoviePy] Done.\n",
      "[MoviePy] >>>> Video ready: test_videos_output/solidYellowLeft.mp4 \n",
      "\n",
      "CPU times: user 17.8 s, sys: 1.01 s, total: 18.9 s\n",
      "Wall time: 11.3 s\n"
     ]
    }
   ],
   "source": [
    "yellow_output = 'test_videos_output/solidYellowLeft.mp4'\n",
    "## To speed up the testing process you may want to try your pipeline on a shorter subclip of the video\n",
    "## To do so add .subclip(start_second,end_second) to the end of the line below\n",
    "## Where start_second and end_second are integer values representing the start and end of the subclip\n",
    "## You may also uncomment the following line for a subclip of the first 5 seconds\n",
    "#clip2 = VideoFileClip('test_videos/solidYellowLeft.mp4').subclip(0,5)\n",
    "clip2 = VideoFileClip('test_videos/solidYellowLeft.mp4')\n",
    "yellow_clip = clip2.fl_image(process_image)\n",
    "%time yellow_clip.write_videofile(yellow_output, audio=False)"
   ]
  },
  {
   "cell_type": "code",
   "execution_count": 25,
   "metadata": {},
   "outputs": [
    {
     "data": {
      "text/html": [
       "\n",
       "<video width=\"960\" height=\"540\" controls>\n",
       "  <source src=\"test_videos_output/solidYellowLeft.mp4\">\n",
       "</video>\n"
      ],
      "text/plain": [
       "<IPython.core.display.HTML object>"
      ]
     },
     "execution_count": 25,
     "metadata": {},
     "output_type": "execute_result"
    }
   ],
   "source": [
    "HTML(\"\"\"\n",
    "<video width=\"960\" height=\"540\" controls>\n",
    "  <source src=\"{0}\">\n",
    "</video>\n",
    "\"\"\".format(yellow_output))"
   ]
  },
  {
   "cell_type": "markdown",
   "metadata": {},
   "source": [
    "## Writeup and Submission\n",
    "\n",
    "If you're satisfied with your video outputs, it's time to make the report writeup in a pdf or markdown file. Once you have this Ipython notebook ready along with the writeup, it's time to submit for review! Here is a [link](https://github.com/udacity/CarND-LaneLines-P1/blob/master/writeup_template.md) to the writeup template file.\n"
   ]
  },
  {
   "cell_type": "markdown",
   "metadata": {
    "collapsed": true
   },
   "source": [
    "## Optional Challenge\n",
    "\n",
    "Try your lane finding pipeline on the video below.  Does it still work?  Can you figure out a way to make it more robust?  If you're up for the challenge, modify your pipeline so it works with this video and submit it along with the rest of your project!"
   ]
  },
  {
   "cell_type": "code",
   "execution_count": 11,
   "metadata": {},
   "outputs": [
    {
     "name": "stdout",
     "output_type": "stream",
     "text": [
      "[MoviePy] >>>> Building video test_videos_output/challenge.mp4\n",
      "[MoviePy] Writing video test_videos_output/challenge.mp4\n"
     ]
    },
    {
     "name": "stderr",
     "output_type": "stream",
     "text": [
      "\r",
      "  0%|          | 0/251 [00:00<?, ?it/s]"
     ]
    },
    {
     "ename": "UnboundLocalError",
     "evalue": "local variable 'left_c' referenced before assignment",
     "output_type": "error",
     "traceback": [
      "\u001b[0;31m---------------------------------------------------------------------------\u001b[0m",
      "\u001b[0;31mUnboundLocalError\u001b[0m                         Traceback (most recent call last)",
      "\u001b[0;32m<timed eval>\u001b[0m in \u001b[0;36m<module>\u001b[0;34m\u001b[0m\n",
      "\u001b[0;32m<decorator-gen-175>\u001b[0m in \u001b[0;36mwrite_videofile\u001b[0;34m(self, filename, fps, codec, bitrate, audio, audio_fps, preset, audio_nbytes, audio_codec, audio_bitrate, audio_bufsize, temp_audiofile, rewrite_audio, remove_temp, write_logfile, verbose, threads, ffmpeg_params, progress_bar)\u001b[0m\n",
      "\u001b[0;32m~/miniconda3/envs/carnd-term1/lib/python3.5/site-packages/moviepy/decorators.py\u001b[0m in \u001b[0;36mrequires_duration\u001b[0;34m(f, clip, *a, **k)\u001b[0m\n\u001b[1;32m     52\u001b[0m         \u001b[0;32mraise\u001b[0m \u001b[0mValueError\u001b[0m\u001b[0;34m(\u001b[0m\u001b[0;34m\"Attribute 'duration' not set\"\u001b[0m\u001b[0;34m)\u001b[0m\u001b[0;34m\u001b[0m\u001b[0m\n\u001b[1;32m     53\u001b[0m     \u001b[0;32melse\u001b[0m\u001b[0;34m:\u001b[0m\u001b[0;34m\u001b[0m\u001b[0m\n\u001b[0;32m---> 54\u001b[0;31m         \u001b[0;32mreturn\u001b[0m \u001b[0mf\u001b[0m\u001b[0;34m(\u001b[0m\u001b[0mclip\u001b[0m\u001b[0;34m,\u001b[0m \u001b[0;34m*\u001b[0m\u001b[0ma\u001b[0m\u001b[0;34m,\u001b[0m \u001b[0;34m**\u001b[0m\u001b[0mk\u001b[0m\u001b[0;34m)\u001b[0m\u001b[0;34m\u001b[0m\u001b[0m\n\u001b[0m\u001b[1;32m     55\u001b[0m \u001b[0;34m\u001b[0m\u001b[0m\n\u001b[1;32m     56\u001b[0m \u001b[0;34m\u001b[0m\u001b[0m\n",
      "\u001b[0;32m<decorator-gen-174>\u001b[0m in \u001b[0;36mwrite_videofile\u001b[0;34m(self, filename, fps, codec, bitrate, audio, audio_fps, preset, audio_nbytes, audio_codec, audio_bitrate, audio_bufsize, temp_audiofile, rewrite_audio, remove_temp, write_logfile, verbose, threads, ffmpeg_params, progress_bar)\u001b[0m\n",
      "\u001b[0;32m~/miniconda3/envs/carnd-term1/lib/python3.5/site-packages/moviepy/decorators.py\u001b[0m in \u001b[0;36muse_clip_fps_by_default\u001b[0;34m(f, clip, *a, **k)\u001b[0m\n\u001b[1;32m    135\u001b[0m              for (k,v) in k.items()}\n\u001b[1;32m    136\u001b[0m \u001b[0;34m\u001b[0m\u001b[0m\n\u001b[0;32m--> 137\u001b[0;31m     \u001b[0;32mreturn\u001b[0m \u001b[0mf\u001b[0m\u001b[0;34m(\u001b[0m\u001b[0mclip\u001b[0m\u001b[0;34m,\u001b[0m \u001b[0;34m*\u001b[0m\u001b[0mnew_a\u001b[0m\u001b[0;34m,\u001b[0m \u001b[0;34m**\u001b[0m\u001b[0mnew_kw\u001b[0m\u001b[0;34m)\u001b[0m\u001b[0;34m\u001b[0m\u001b[0m\n\u001b[0m",
      "\u001b[0;32m<decorator-gen-173>\u001b[0m in \u001b[0;36mwrite_videofile\u001b[0;34m(self, filename, fps, codec, bitrate, audio, audio_fps, preset, audio_nbytes, audio_codec, audio_bitrate, audio_bufsize, temp_audiofile, rewrite_audio, remove_temp, write_logfile, verbose, threads, ffmpeg_params, progress_bar)\u001b[0m\n",
      "\u001b[0;32m~/miniconda3/envs/carnd-term1/lib/python3.5/site-packages/moviepy/decorators.py\u001b[0m in \u001b[0;36mconvert_masks_to_RGB\u001b[0;34m(f, clip, *a, **k)\u001b[0m\n\u001b[1;32m     20\u001b[0m     \u001b[0;32mif\u001b[0m \u001b[0mclip\u001b[0m\u001b[0;34m.\u001b[0m\u001b[0mismask\u001b[0m\u001b[0;34m:\u001b[0m\u001b[0;34m\u001b[0m\u001b[0m\n\u001b[1;32m     21\u001b[0m         \u001b[0mclip\u001b[0m \u001b[0;34m=\u001b[0m \u001b[0mclip\u001b[0m\u001b[0;34m.\u001b[0m\u001b[0mto_RGB\u001b[0m\u001b[0;34m(\u001b[0m\u001b[0;34m)\u001b[0m\u001b[0;34m\u001b[0m\u001b[0m\n\u001b[0;32m---> 22\u001b[0;31m     \u001b[0;32mreturn\u001b[0m \u001b[0mf\u001b[0m\u001b[0;34m(\u001b[0m\u001b[0mclip\u001b[0m\u001b[0;34m,\u001b[0m \u001b[0;34m*\u001b[0m\u001b[0ma\u001b[0m\u001b[0;34m,\u001b[0m \u001b[0;34m**\u001b[0m\u001b[0mk\u001b[0m\u001b[0;34m)\u001b[0m\u001b[0;34m\u001b[0m\u001b[0m\n\u001b[0m\u001b[1;32m     23\u001b[0m \u001b[0;34m\u001b[0m\u001b[0m\n\u001b[1;32m     24\u001b[0m \u001b[0;34m@\u001b[0m\u001b[0mdecorator\u001b[0m\u001b[0;34m.\u001b[0m\u001b[0mdecorator\u001b[0m\u001b[0;34m\u001b[0m\u001b[0m\n",
      "\u001b[0;32m~/miniconda3/envs/carnd-term1/lib/python3.5/site-packages/moviepy/video/VideoClip.py\u001b[0m in \u001b[0;36mwrite_videofile\u001b[0;34m(self, filename, fps, codec, bitrate, audio, audio_fps, preset, audio_nbytes, audio_codec, audio_bitrate, audio_bufsize, temp_audiofile, rewrite_audio, remove_temp, write_logfile, verbose, threads, ffmpeg_params, progress_bar)\u001b[0m\n\u001b[1;32m    325\u001b[0m                            \u001b[0mverbose\u001b[0m\u001b[0;34m=\u001b[0m\u001b[0mverbose\u001b[0m\u001b[0;34m,\u001b[0m \u001b[0mthreads\u001b[0m\u001b[0;34m=\u001b[0m\u001b[0mthreads\u001b[0m\u001b[0;34m,\u001b[0m\u001b[0;34m\u001b[0m\u001b[0m\n\u001b[1;32m    326\u001b[0m                            \u001b[0mffmpeg_params\u001b[0m\u001b[0;34m=\u001b[0m\u001b[0mffmpeg_params\u001b[0m\u001b[0;34m,\u001b[0m\u001b[0;34m\u001b[0m\u001b[0m\n\u001b[0;32m--> 327\u001b[0;31m                            progress_bar=progress_bar)\n\u001b[0m\u001b[1;32m    328\u001b[0m \u001b[0;34m\u001b[0m\u001b[0m\n\u001b[1;32m    329\u001b[0m         \u001b[0;32mif\u001b[0m \u001b[0mremove_temp\u001b[0m \u001b[0;32mand\u001b[0m \u001b[0mmake_audio\u001b[0m\u001b[0;34m:\u001b[0m\u001b[0;34m\u001b[0m\u001b[0m\n",
      "\u001b[0;32m~/miniconda3/envs/carnd-term1/lib/python3.5/site-packages/moviepy/video/io/ffmpeg_writer.py\u001b[0m in \u001b[0;36mffmpeg_write_video\u001b[0;34m(clip, filename, fps, codec, bitrate, preset, withmask, write_logfile, audiofile, verbose, threads, ffmpeg_params, progress_bar)\u001b[0m\n\u001b[1;32m    216\u001b[0m \u001b[0;34m\u001b[0m\u001b[0m\n\u001b[1;32m    217\u001b[0m         for t,frame in clip.iter_frames(progress_bar=progress_bar, with_times=True,\n\u001b[0;32m--> 218\u001b[0;31m                                         fps=fps, dtype=\"uint8\"):\n\u001b[0m\u001b[1;32m    219\u001b[0m             \u001b[0;32mif\u001b[0m \u001b[0mwithmask\u001b[0m\u001b[0;34m:\u001b[0m\u001b[0;34m\u001b[0m\u001b[0m\n\u001b[1;32m    220\u001b[0m                 \u001b[0mmask\u001b[0m \u001b[0;34m=\u001b[0m \u001b[0;34m(\u001b[0m\u001b[0;36m255\u001b[0m\u001b[0;34m*\u001b[0m\u001b[0mclip\u001b[0m\u001b[0;34m.\u001b[0m\u001b[0mmask\u001b[0m\u001b[0;34m.\u001b[0m\u001b[0mget_frame\u001b[0m\u001b[0;34m(\u001b[0m\u001b[0mt\u001b[0m\u001b[0;34m)\u001b[0m\u001b[0;34m)\u001b[0m\u001b[0;34m\u001b[0m\u001b[0m\n",
      "\u001b[0;32m~/miniconda3/envs/carnd-term1/lib/python3.5/site-packages/tqdm/_tqdm.py\u001b[0m in \u001b[0;36m__iter__\u001b[0;34m(self)\u001b[0m\n\u001b[1;32m   1000\u001b[0m \"\"\", fp_write=getattr(self.fp, 'write', sys.stderr.write))\n\u001b[1;32m   1001\u001b[0m \u001b[0;34m\u001b[0m\u001b[0m\n\u001b[0;32m-> 1002\u001b[0;31m             \u001b[0;32mfor\u001b[0m \u001b[0mobj\u001b[0m \u001b[0;32min\u001b[0m \u001b[0miterable\u001b[0m\u001b[0;34m:\u001b[0m\u001b[0;34m\u001b[0m\u001b[0m\n\u001b[0m\u001b[1;32m   1003\u001b[0m                 \u001b[0;32myield\u001b[0m \u001b[0mobj\u001b[0m\u001b[0;34m\u001b[0m\u001b[0m\n\u001b[1;32m   1004\u001b[0m                 \u001b[0;31m# Update and possibly print the progressbar.\u001b[0m\u001b[0;34m\u001b[0m\u001b[0;34m\u001b[0m\u001b[0m\n",
      "\u001b[0;32m~/miniconda3/envs/carnd-term1/lib/python3.5/site-packages/moviepy/Clip.py\u001b[0m in \u001b[0;36mgenerator\u001b[0;34m()\u001b[0m\n\u001b[1;32m    473\u001b[0m         \u001b[0;32mdef\u001b[0m \u001b[0mgenerator\u001b[0m\u001b[0;34m(\u001b[0m\u001b[0;34m)\u001b[0m\u001b[0;34m:\u001b[0m\u001b[0;34m\u001b[0m\u001b[0m\n\u001b[1;32m    474\u001b[0m             \u001b[0;32mfor\u001b[0m \u001b[0mt\u001b[0m \u001b[0;32min\u001b[0m \u001b[0mnp\u001b[0m\u001b[0;34m.\u001b[0m\u001b[0marange\u001b[0m\u001b[0;34m(\u001b[0m\u001b[0;36m0\u001b[0m\u001b[0;34m,\u001b[0m \u001b[0mself\u001b[0m\u001b[0;34m.\u001b[0m\u001b[0mduration\u001b[0m\u001b[0;34m,\u001b[0m \u001b[0;36m1.0\u001b[0m\u001b[0;34m/\u001b[0m\u001b[0mfps\u001b[0m\u001b[0;34m)\u001b[0m\u001b[0;34m:\u001b[0m\u001b[0;34m\u001b[0m\u001b[0m\n\u001b[0;32m--> 475\u001b[0;31m                 \u001b[0mframe\u001b[0m \u001b[0;34m=\u001b[0m \u001b[0mself\u001b[0m\u001b[0;34m.\u001b[0m\u001b[0mget_frame\u001b[0m\u001b[0;34m(\u001b[0m\u001b[0mt\u001b[0m\u001b[0;34m)\u001b[0m\u001b[0;34m\u001b[0m\u001b[0m\n\u001b[0m\u001b[1;32m    476\u001b[0m                 \u001b[0;32mif\u001b[0m \u001b[0;34m(\u001b[0m\u001b[0mdtype\u001b[0m \u001b[0;32mis\u001b[0m \u001b[0;32mnot\u001b[0m \u001b[0;32mNone\u001b[0m\u001b[0;34m)\u001b[0m \u001b[0;32mand\u001b[0m \u001b[0;34m(\u001b[0m\u001b[0mframe\u001b[0m\u001b[0;34m.\u001b[0m\u001b[0mdtype\u001b[0m \u001b[0;34m!=\u001b[0m \u001b[0mdtype\u001b[0m\u001b[0;34m)\u001b[0m\u001b[0;34m:\u001b[0m\u001b[0;34m\u001b[0m\u001b[0m\n\u001b[1;32m    477\u001b[0m                     \u001b[0mframe\u001b[0m \u001b[0;34m=\u001b[0m \u001b[0mframe\u001b[0m\u001b[0;34m.\u001b[0m\u001b[0mastype\u001b[0m\u001b[0;34m(\u001b[0m\u001b[0mdtype\u001b[0m\u001b[0;34m)\u001b[0m\u001b[0;34m\u001b[0m\u001b[0m\n",
      "\u001b[0;32m<decorator-gen-134>\u001b[0m in \u001b[0;36mget_frame\u001b[0;34m(self, t)\u001b[0m\n",
      "\u001b[0;32m~/miniconda3/envs/carnd-term1/lib/python3.5/site-packages/moviepy/decorators.py\u001b[0m in \u001b[0;36mwrapper\u001b[0;34m(f, *a, **kw)\u001b[0m\n\u001b[1;32m     87\u001b[0m         new_kw = {k: fun(v) if k in varnames else v\n\u001b[1;32m     88\u001b[0m                  for (k,v) in kw.items()}\n\u001b[0;32m---> 89\u001b[0;31m         \u001b[0;32mreturn\u001b[0m \u001b[0mf\u001b[0m\u001b[0;34m(\u001b[0m\u001b[0;34m*\u001b[0m\u001b[0mnew_a\u001b[0m\u001b[0;34m,\u001b[0m \u001b[0;34m**\u001b[0m\u001b[0mnew_kw\u001b[0m\u001b[0;34m)\u001b[0m\u001b[0;34m\u001b[0m\u001b[0m\n\u001b[0m\u001b[1;32m     90\u001b[0m     \u001b[0;32mreturn\u001b[0m \u001b[0mdecorator\u001b[0m\u001b[0;34m.\u001b[0m\u001b[0mdecorator\u001b[0m\u001b[0;34m(\u001b[0m\u001b[0mwrapper\u001b[0m\u001b[0;34m)\u001b[0m\u001b[0;34m\u001b[0m\u001b[0m\n\u001b[1;32m     91\u001b[0m \u001b[0;34m\u001b[0m\u001b[0m\n",
      "\u001b[0;32m~/miniconda3/envs/carnd-term1/lib/python3.5/site-packages/moviepy/Clip.py\u001b[0m in \u001b[0;36mget_frame\u001b[0;34m(self, t)\u001b[0m\n\u001b[1;32m     92\u001b[0m                 \u001b[0;32mreturn\u001b[0m \u001b[0mframe\u001b[0m\u001b[0;34m\u001b[0m\u001b[0m\n\u001b[1;32m     93\u001b[0m         \u001b[0;32melse\u001b[0m\u001b[0;34m:\u001b[0m\u001b[0;34m\u001b[0m\u001b[0m\n\u001b[0;32m---> 94\u001b[0;31m             \u001b[0;32mreturn\u001b[0m \u001b[0mself\u001b[0m\u001b[0;34m.\u001b[0m\u001b[0mmake_frame\u001b[0m\u001b[0;34m(\u001b[0m\u001b[0mt\u001b[0m\u001b[0;34m)\u001b[0m\u001b[0;34m\u001b[0m\u001b[0m\n\u001b[0m\u001b[1;32m     95\u001b[0m \u001b[0;34m\u001b[0m\u001b[0m\n\u001b[1;32m     96\u001b[0m     \u001b[0;32mdef\u001b[0m \u001b[0mfl\u001b[0m\u001b[0;34m(\u001b[0m\u001b[0mself\u001b[0m\u001b[0;34m,\u001b[0m \u001b[0mfun\u001b[0m\u001b[0;34m,\u001b[0m \u001b[0mapply_to\u001b[0m\u001b[0;34m=\u001b[0m\u001b[0;32mNone\u001b[0m\u001b[0;34m,\u001b[0m \u001b[0mkeep_duration\u001b[0m\u001b[0;34m=\u001b[0m\u001b[0;32mTrue\u001b[0m\u001b[0;34m)\u001b[0m\u001b[0;34m:\u001b[0m\u001b[0;34m\u001b[0m\u001b[0m\n",
      "\u001b[0;32m~/miniconda3/envs/carnd-term1/lib/python3.5/site-packages/moviepy/Clip.py\u001b[0m in \u001b[0;36m<lambda>\u001b[0;34m(t)\u001b[0m\n\u001b[1;32m    135\u001b[0m \u001b[0;34m\u001b[0m\u001b[0m\n\u001b[1;32m    136\u001b[0m         \u001b[0;31m#mf = copy(self.make_frame)\u001b[0m\u001b[0;34m\u001b[0m\u001b[0;34m\u001b[0m\u001b[0m\n\u001b[0;32m--> 137\u001b[0;31m         \u001b[0mnewclip\u001b[0m \u001b[0;34m=\u001b[0m \u001b[0mself\u001b[0m\u001b[0;34m.\u001b[0m\u001b[0mset_make_frame\u001b[0m\u001b[0;34m(\u001b[0m\u001b[0;32mlambda\u001b[0m \u001b[0mt\u001b[0m\u001b[0;34m:\u001b[0m \u001b[0mfun\u001b[0m\u001b[0;34m(\u001b[0m\u001b[0mself\u001b[0m\u001b[0;34m.\u001b[0m\u001b[0mget_frame\u001b[0m\u001b[0;34m,\u001b[0m \u001b[0mt\u001b[0m\u001b[0;34m)\u001b[0m\u001b[0;34m)\u001b[0m\u001b[0;34m\u001b[0m\u001b[0m\n\u001b[0m\u001b[1;32m    138\u001b[0m \u001b[0;34m\u001b[0m\u001b[0m\n\u001b[1;32m    139\u001b[0m         \u001b[0;32mif\u001b[0m \u001b[0;32mnot\u001b[0m \u001b[0mkeep_duration\u001b[0m\u001b[0;34m:\u001b[0m\u001b[0;34m\u001b[0m\u001b[0m\n",
      "\u001b[0;32m~/miniconda3/envs/carnd-term1/lib/python3.5/site-packages/moviepy/video/VideoClip.py\u001b[0m in \u001b[0;36m<lambda>\u001b[0;34m(gf, t)\u001b[0m\n\u001b[1;32m    512\u001b[0m         \u001b[0;32mif\u001b[0m \u001b[0mapply_to\u001b[0m \u001b[0;32mis\u001b[0m \u001b[0;32mNone\u001b[0m\u001b[0;34m:\u001b[0m\u001b[0;34m\u001b[0m\u001b[0m\n\u001b[1;32m    513\u001b[0m             \u001b[0mapply_to\u001b[0m \u001b[0;34m=\u001b[0m \u001b[0;34m[\u001b[0m\u001b[0;34m]\u001b[0m\u001b[0;34m\u001b[0m\u001b[0m\n\u001b[0;32m--> 514\u001b[0;31m         \u001b[0;32mreturn\u001b[0m \u001b[0mself\u001b[0m\u001b[0;34m.\u001b[0m\u001b[0mfl\u001b[0m\u001b[0;34m(\u001b[0m\u001b[0;32mlambda\u001b[0m \u001b[0mgf\u001b[0m\u001b[0;34m,\u001b[0m \u001b[0mt\u001b[0m\u001b[0;34m:\u001b[0m \u001b[0mimage_func\u001b[0m\u001b[0;34m(\u001b[0m\u001b[0mgf\u001b[0m\u001b[0;34m(\u001b[0m\u001b[0mt\u001b[0m\u001b[0;34m)\u001b[0m\u001b[0;34m)\u001b[0m\u001b[0;34m,\u001b[0m \u001b[0mapply_to\u001b[0m\u001b[0;34m)\u001b[0m\u001b[0;34m\u001b[0m\u001b[0m\n\u001b[0m\u001b[1;32m    515\u001b[0m \u001b[0;34m\u001b[0m\u001b[0m\n\u001b[1;32m    516\u001b[0m     \u001b[0;31m# --------------------------------------------------------------\u001b[0m\u001b[0;34m\u001b[0m\u001b[0;34m\u001b[0m\u001b[0m\n",
      "\u001b[0;32m<ipython-input-6-7388696334f3>\u001b[0m in \u001b[0;36mprocess_image\u001b[0;34m(image)\u001b[0m\n\u001b[1;32m     53\u001b[0m \u001b[0;34m\u001b[0m\u001b[0m\n\u001b[1;32m     54\u001b[0m \u001b[0;34m\u001b[0m\u001b[0m\n\u001b[0;32m---> 55\u001b[0;31m         \u001b[0mHigher_left_y_X\u001b[0m \u001b[0;34m=\u001b[0m \u001b[0mint\u001b[0m\u001b[0;34m(\u001b[0m\u001b[0;34m(\u001b[0m\u001b[0mYmax\u001b[0m \u001b[0;34m-\u001b[0m \u001b[0mleft_c\u001b[0m\u001b[0;34m)\u001b[0m\u001b[0;34m/\u001b[0m\u001b[0mleft_slope\u001b[0m\u001b[0;34m)\u001b[0m\u001b[0;34m\u001b[0m\u001b[0m\n\u001b[0m\u001b[1;32m     56\u001b[0m         \u001b[0mLowest_left_y_X\u001b[0m \u001b[0;34m=\u001b[0m \u001b[0mint\u001b[0m\u001b[0;34m(\u001b[0m\u001b[0;34m(\u001b[0m\u001b[0mYmin\u001b[0m \u001b[0;34m-\u001b[0m \u001b[0mleft_c\u001b[0m\u001b[0;34m)\u001b[0m\u001b[0;34m/\u001b[0m\u001b[0mleft_slope\u001b[0m\u001b[0;34m)\u001b[0m\u001b[0;34m\u001b[0m\u001b[0m\n\u001b[1;32m     57\u001b[0m \u001b[0;34m\u001b[0m\u001b[0m\n",
      "\u001b[0;31mUnboundLocalError\u001b[0m: local variable 'left_c' referenced before assignment"
     ]
    }
   ],
   "source": [
    "challenge_output = 'test_videos_output/challenge.mp4'\n",
    "## To speed up the testing process you may want to try your pipeline on a shorter subclip of the video\n",
    "## To do so add .subclip(start_second,end_second) to the end of the line below\n",
    "## Where start_second and end_second are integer values representing the start and end of the subclip\n",
    "## You may also uncomment the following line for a subclip of the first 5 seconds\n",
    "##clip3 = VideoFileClip('test_videos/challenge.mp4').subclip(0,5)\n",
    "clip3 = VideoFileClip('test_videos/challenge.mp4')\n",
    "challenge_clip = clip3.fl_image(process_image)\n",
    "%time challenge_clip.write_videofile(challenge_output, audio=False)"
   ]
  },
  {
   "cell_type": "code",
   "execution_count": 12,
   "metadata": {},
   "outputs": [
    {
     "data": {
      "text/html": [
       "\n",
       "<video width=\"960\" height=\"540\" controls>\n",
       "  <source src=\"test_videos_output/challenge.mp4\">\n",
       "</video>\n"
      ],
      "text/plain": [
       "<IPython.core.display.HTML object>"
      ]
     },
     "execution_count": 12,
     "metadata": {},
     "output_type": "execute_result"
    }
   ],
   "source": [
    "HTML(\"\"\"\n",
    "<video width=\"960\" height=\"540\" controls>\n",
    "  <source src=\"{0}\">\n",
    "</video>\n",
    "\"\"\".format(challenge_output))"
   ]
  }
 ],
 "metadata": {
  "anaconda-cloud": {},
  "kernelspec": {
   "display_name": "Python 3",
   "language": "python",
   "name": "python3"
  },
  "language_info": {
   "codemirror_mode": {
    "name": "ipython",
    "version": 3
   },
   "file_extension": ".py",
   "mimetype": "text/x-python",
   "name": "python",
   "nbconvert_exporter": "python",
   "pygments_lexer": "ipython3",
   "version": "3.5.2"
  },
  "widgets": {
   "state": {},
   "version": "1.1.2"
  }
 },
 "nbformat": 4,
 "nbformat_minor": 1
}
